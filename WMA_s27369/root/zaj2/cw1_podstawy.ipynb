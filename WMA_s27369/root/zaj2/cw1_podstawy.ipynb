{
  "nbformat": 4,
  "nbformat_minor": 0,
  "metadata": {
    "colab": {
      "provenance": []
    },
    "kernelspec": {
      "name": "python3",
      "display_name": "Python 3"
    }
  },
  "cells": [
    {
      "cell_type": "markdown",
      "metadata": {
        "id": "TKO2aH8ZaE5y"
      },
      "source": [
        "Możemy tworzyc pola tekstowe oraz do programowania\n",
        "\n",
        "Jezeli chcemy zmienić procesor na którym operujemy wchodzimy w Środowisko wykonawcze->zmień tryb środowiska wykonawczego i możemy zmienić procesor TPU/GPU.\n",
        "W większości przypadków na GPU obliczenia będą się wykonywały szybciej. Procesory są nam przypisywane losowo dla tego nie zawsze trafimy na ten sam."
      ]
    },
    {
      "cell_type": "code",
      "metadata": {
        "id": "nJB-dEMUWkgk",
        "colab": {
          "base_uri": "https://localhost:8080/"
        },
        "outputId": "fb41227f-7717-4359-d1a6-d52d392f7d52"
      },
      "source": [
        "# Ponieważ serwer colab bazuje na platformie linux możemy używac komend basha\n",
        "# Wyświetlenie aktualnej ścieżki\n",
        "!pwd"
      ],
      "execution_count": 1,
      "outputs": [
        {
          "output_type": "stream",
          "name": "stdout",
          "text": [
            "/content\n"
          ]
        }
      ]
    },
    {
      "cell_type": "code",
      "metadata": {
        "id": "x2Iy2sJHWsR6",
        "colab": {
          "base_uri": "https://localhost:8080/"
        },
        "outputId": "d537d5f0-6c80-4eea-eff5-5234be162a1b"
      },
      "source": [
        "# Wyświetlenie zawartości katalogu\n",
        "!ls"
      ],
      "execution_count": 2,
      "outputs": [
        {
          "output_type": "stream",
          "name": "stdout",
          "text": [
            "sample_data\n"
          ]
        }
      ]
    },
    {
      "cell_type": "code",
      "metadata": {
        "id": "Vc2bm5vQWnTs"
      },
      "source": [
        "# Tworzenie katalogu\n",
        "!mkdir test"
      ],
      "execution_count": 3,
      "outputs": []
    },
    {
      "cell_type": "code",
      "metadata": {
        "id": "7ocG1u54Wteh",
        "colab": {
          "base_uri": "https://localhost:8080/"
        },
        "outputId": "54f9082a-ce6b-4d91-9094-d442fc666e01"
      },
      "source": [
        "!ls"
      ],
      "execution_count": 4,
      "outputs": [
        {
          "output_type": "stream",
          "name": "stdout",
          "text": [
            "sample_data  test\n"
          ]
        }
      ]
    },
    {
      "cell_type": "code",
      "metadata": {
        "id": "gnx4y7mJZY_O"
      },
      "source": [
        "# Usunięcie katalogu\n",
        "!rm -r test"
      ],
      "execution_count": 5,
      "outputs": []
    },
    {
      "cell_type": "code",
      "metadata": {
        "id": "fiAAKeneZiU6",
        "colab": {
          "base_uri": "https://localhost:8080/"
        },
        "outputId": "2759b6f8-8e94-48ee-e072-b10b2f101d1d"
      },
      "source": [
        "!ls"
      ],
      "execution_count": 6,
      "outputs": [
        {
          "output_type": "stream",
          "name": "stdout",
          "text": [
            "sample_data\n"
          ]
        }
      ]
    },
    {
      "cell_type": "code",
      "metadata": {
        "id": "rBe5BwD6r7ge",
        "colab": {
          "base_uri": "https://localhost:8080/"
        },
        "outputId": "6b8d6b1b-425a-49f5-83f7-ce61f6f83fdb"
      },
      "source": [
        "# Instalacja pakietu\n",
        "!pip install tensorflow"
      ],
      "execution_count": 7,
      "outputs": [
        {
          "output_type": "stream",
          "name": "stdout",
          "text": [
            "Requirement already satisfied: tensorflow in /usr/local/lib/python3.11/dist-packages (2.18.0)\n",
            "Requirement already satisfied: absl-py>=1.0.0 in /usr/local/lib/python3.11/dist-packages (from tensorflow) (1.4.0)\n",
            "Requirement already satisfied: astunparse>=1.6.0 in /usr/local/lib/python3.11/dist-packages (from tensorflow) (1.6.3)\n",
            "Requirement already satisfied: flatbuffers>=24.3.25 in /usr/local/lib/python3.11/dist-packages (from tensorflow) (25.2.10)\n",
            "Requirement already satisfied: gast!=0.5.0,!=0.5.1,!=0.5.2,>=0.2.1 in /usr/local/lib/python3.11/dist-packages (from tensorflow) (0.6.0)\n",
            "Requirement already satisfied: google-pasta>=0.1.1 in /usr/local/lib/python3.11/dist-packages (from tensorflow) (0.2.0)\n",
            "Requirement already satisfied: libclang>=13.0.0 in /usr/local/lib/python3.11/dist-packages (from tensorflow) (18.1.1)\n",
            "Requirement already satisfied: opt-einsum>=2.3.2 in /usr/local/lib/python3.11/dist-packages (from tensorflow) (3.4.0)\n",
            "Requirement already satisfied: packaging in /usr/local/lib/python3.11/dist-packages (from tensorflow) (24.2)\n",
            "Requirement already satisfied: protobuf!=4.21.0,!=4.21.1,!=4.21.2,!=4.21.3,!=4.21.4,!=4.21.5,<6.0.0dev,>=3.20.3 in /usr/local/lib/python3.11/dist-packages (from tensorflow) (4.25.6)\n",
            "Requirement already satisfied: requests<3,>=2.21.0 in /usr/local/lib/python3.11/dist-packages (from tensorflow) (2.32.3)\n",
            "Requirement already satisfied: setuptools in /usr/local/lib/python3.11/dist-packages (from tensorflow) (75.1.0)\n",
            "Requirement already satisfied: six>=1.12.0 in /usr/local/lib/python3.11/dist-packages (from tensorflow) (1.17.0)\n",
            "Requirement already satisfied: termcolor>=1.1.0 in /usr/local/lib/python3.11/dist-packages (from tensorflow) (2.5.0)\n",
            "Requirement already satisfied: typing-extensions>=3.6.6 in /usr/local/lib/python3.11/dist-packages (from tensorflow) (4.12.2)\n",
            "Requirement already satisfied: wrapt>=1.11.0 in /usr/local/lib/python3.11/dist-packages (from tensorflow) (1.17.2)\n",
            "Requirement already satisfied: grpcio<2.0,>=1.24.3 in /usr/local/lib/python3.11/dist-packages (from tensorflow) (1.70.0)\n",
            "Requirement already satisfied: tensorboard<2.19,>=2.18 in /usr/local/lib/python3.11/dist-packages (from tensorflow) (2.18.0)\n",
            "Requirement already satisfied: keras>=3.5.0 in /usr/local/lib/python3.11/dist-packages (from tensorflow) (3.8.0)\n",
            "Requirement already satisfied: numpy<2.1.0,>=1.26.0 in /usr/local/lib/python3.11/dist-packages (from tensorflow) (1.26.4)\n",
            "Requirement already satisfied: h5py>=3.11.0 in /usr/local/lib/python3.11/dist-packages (from tensorflow) (3.12.1)\n",
            "Requirement already satisfied: ml-dtypes<0.5.0,>=0.4.0 in /usr/local/lib/python3.11/dist-packages (from tensorflow) (0.4.1)\n",
            "Requirement already satisfied: tensorflow-io-gcs-filesystem>=0.23.1 in /usr/local/lib/python3.11/dist-packages (from tensorflow) (0.37.1)\n",
            "Requirement already satisfied: wheel<1.0,>=0.23.0 in /usr/local/lib/python3.11/dist-packages (from astunparse>=1.6.0->tensorflow) (0.45.1)\n",
            "Requirement already satisfied: rich in /usr/local/lib/python3.11/dist-packages (from keras>=3.5.0->tensorflow) (13.9.4)\n",
            "Requirement already satisfied: namex in /usr/local/lib/python3.11/dist-packages (from keras>=3.5.0->tensorflow) (0.0.8)\n",
            "Requirement already satisfied: optree in /usr/local/lib/python3.11/dist-packages (from keras>=3.5.0->tensorflow) (0.14.0)\n",
            "Requirement already satisfied: charset-normalizer<4,>=2 in /usr/local/lib/python3.11/dist-packages (from requests<3,>=2.21.0->tensorflow) (3.4.1)\n",
            "Requirement already satisfied: idna<4,>=2.5 in /usr/local/lib/python3.11/dist-packages (from requests<3,>=2.21.0->tensorflow) (3.10)\n",
            "Requirement already satisfied: urllib3<3,>=1.21.1 in /usr/local/lib/python3.11/dist-packages (from requests<3,>=2.21.0->tensorflow) (2.3.0)\n",
            "Requirement already satisfied: certifi>=2017.4.17 in /usr/local/lib/python3.11/dist-packages (from requests<3,>=2.21.0->tensorflow) (2025.1.31)\n",
            "Requirement already satisfied: markdown>=2.6.8 in /usr/local/lib/python3.11/dist-packages (from tensorboard<2.19,>=2.18->tensorflow) (3.7)\n",
            "Requirement already satisfied: tensorboard-data-server<0.8.0,>=0.7.0 in /usr/local/lib/python3.11/dist-packages (from tensorboard<2.19,>=2.18->tensorflow) (0.7.2)\n",
            "Requirement already satisfied: werkzeug>=1.0.1 in /usr/local/lib/python3.11/dist-packages (from tensorboard<2.19,>=2.18->tensorflow) (3.1.3)\n",
            "Requirement already satisfied: MarkupSafe>=2.1.1 in /usr/local/lib/python3.11/dist-packages (from werkzeug>=1.0.1->tensorboard<2.19,>=2.18->tensorflow) (3.0.2)\n",
            "Requirement already satisfied: markdown-it-py>=2.2.0 in /usr/local/lib/python3.11/dist-packages (from rich->keras>=3.5.0->tensorflow) (3.0.0)\n",
            "Requirement already satisfied: pygments<3.0.0,>=2.13.0 in /usr/local/lib/python3.11/dist-packages (from rich->keras>=3.5.0->tensorflow) (2.18.0)\n",
            "Requirement already satisfied: mdurl~=0.1 in /usr/local/lib/python3.11/dist-packages (from markdown-it-py>=2.2.0->rich->keras>=3.5.0->tensorflow) (0.1.2)\n"
          ]
        }
      ]
    },
    {
      "cell_type": "code",
      "metadata": {
        "id": "T6CwrK-Z0IJV",
        "colab": {
          "base_uri": "https://localhost:8080/",
          "height": 243
        },
        "outputId": "ff517dcc-e740-4b5c-b1e0-32636bc04ad9"
      },
      "source": [
        "%lsmagic"
      ],
      "execution_count": 8,
      "outputs": [
        {
          "output_type": "execute_result",
          "data": {
            "text/plain": [
              "Available line magics:\n",
              "%alias  %alias_magic  %autoawait  %autocall  %automagic  %autosave  %bookmark  %cat  %cd  %clear  %colors  %conda  %config  %connect_info  %cp  %debug  %dhist  %dirs  %doctest_mode  %ed  %edit  %env  %gui  %hist  %history  %killbgscripts  %ldir  %less  %lf  %lk  %ll  %load  %load_ext  %loadpy  %logoff  %logon  %logstart  %logstate  %logstop  %ls  %lsmagic  %lx  %macro  %magic  %man  %matplotlib  %mkdir  %more  %mv  %notebook  %page  %pastebin  %pdb  %pdef  %pdoc  %pfile  %pinfo  %pinfo2  %pip  %popd  %pprint  %precision  %prun  %psearch  %psource  %pushd  %pwd  %pycat  %pylab  %qtconsole  %quickref  %recall  %rehashx  %reload_ext  %rep  %rerun  %reset  %reset_selective  %rm  %rmdir  %run  %save  %sc  %set_env  %shell  %store  %sx  %system  %tb  %tensorflow_version  %time  %timeit  %unalias  %unload_ext  %who  %who_ls  %whos  %xdel  %xmode\n",
              "\n",
              "Available cell magics:\n",
              "%%!  %%HTML  %%SVG  %%bash  %%bigquery  %%capture  %%debug  %%file  %%html  %%javascript  %%js  %%latex  %%markdown  %%perl  %%prun  %%pypy  %%python  %%python2  %%python3  %%ruby  %%script  %%sh  %%shell  %%spanner_graph  %%svg  %%sx  %%system  %%time  %%timeit  %%writefile\n",
              "\n",
              "Automagic is ON, % prefix IS NOT needed for line magics."
            ],
            "application/json": {
              "line": {
                "automagic": "AutoMagics",
                "autocall": "AutoMagics",
                "alias_magic": "BasicMagics",
                "lsmagic": "BasicMagics",
                "magic": "BasicMagics",
                "page": "BasicMagics",
                "pprint": "BasicMagics",
                "colors": "BasicMagics",
                "xmode": "BasicMagics",
                "quickref": "BasicMagics",
                "doctest_mode": "BasicMagics",
                "gui": "BasicMagics",
                "precision": "BasicMagics",
                "notebook": "BasicMagics",
                "save": "CodeMagics",
                "pastebin": "CodeMagics",
                "loadpy": "CodeMagics",
                "load": "CodeMagics",
                "edit": "KernelMagics",
                "config": "ConfigMagics",
                "prun": "ExecutionMagics",
                "pdb": "ExecutionMagics",
                "debug": "ExecutionMagics",
                "tb": "ExecutionMagics",
                "run": "ExecutionMagics",
                "timeit": "ExecutionMagics",
                "time": "ExecutionMagics",
                "macro": "ExecutionMagics",
                "load_ext": "ExtensionMagics",
                "unload_ext": "ExtensionMagics",
                "reload_ext": "ExtensionMagics",
                "history": "HistoryMagics",
                "recall": "HistoryMagics",
                "rerun": "HistoryMagics",
                "logstart": "LoggingMagics",
                "logstop": "LoggingMagics",
                "logoff": "LoggingMagics",
                "logon": "LoggingMagics",
                "logstate": "LoggingMagics",
                "pinfo": "NamespaceMagics",
                "pinfo2": "NamespaceMagics",
                "pdef": "NamespaceMagics",
                "pdoc": "NamespaceMagics",
                "psource": "NamespaceMagics",
                "pfile": "NamespaceMagics",
                "psearch": "NamespaceMagics",
                "who_ls": "NamespaceMagics",
                "who": "NamespaceMagics",
                "whos": "NamespaceMagics",
                "reset": "NamespaceMagics",
                "reset_selective": "NamespaceMagics",
                "xdel": "NamespaceMagics",
                "alias": "OSMagics",
                "unalias": "OSMagics",
                "rehashx": "OSMagics",
                "pwd": "OSMagics",
                "cd": "OSMagics",
                "env": "OSMagics",
                "set_env": "OSMagics",
                "pushd": "OSMagics",
                "popd": "OSMagics",
                "dirs": "OSMagics",
                "dhist": "OSMagics",
                "sc": "OSMagics",
                "sx": "OSMagics",
                "system": "OSMagics",
                "bookmark": "OSMagics",
                "pycat": "OSMagics",
                "pip": "Other",
                "conda": "PackagingMagics",
                "matplotlib": "PylabMagics",
                "pylab": "PylabMagics",
                "killbgscripts": "ScriptMagics",
                "autoawait": "AsyncMagics",
                "ed": "Other",
                "hist": "Other",
                "rep": "Other",
                "clear": "KernelMagics",
                "less": "KernelMagics",
                "more": "KernelMagics",
                "man": "KernelMagics",
                "connect_info": "KernelMagics",
                "qtconsole": "KernelMagics",
                "autosave": "KernelMagics",
                "mkdir": "Other",
                "rmdir": "Other",
                "mv": "Other",
                "rm": "Other",
                "cp": "Other",
                "cat": "Other",
                "ls": "Other",
                "ll": "Other",
                "lf": "Other",
                "lk": "Other",
                "ldir": "Other",
                "lx": "Other",
                "store": "StoreMagics",
                "shell": "Other",
                "tensorflow_version": "Other"
              },
              "cell": {
                "js": "DisplayMagics",
                "javascript": "DisplayMagics",
                "latex": "DisplayMagics",
                "svg": "DisplayMagics",
                "html": "DisplayMagics",
                "markdown": "DisplayMagics",
                "prun": "ExecutionMagics",
                "debug": "ExecutionMagics",
                "timeit": "ExecutionMagics",
                "time": "ExecutionMagics",
                "capture": "ExecutionMagics",
                "sx": "OSMagics",
                "system": "OSMagics",
                "!": "OSMagics",
                "writefile": "OSMagics",
                "script": "ScriptMagics",
                "sh": "Other",
                "bash": "Other",
                "perl": "Other",
                "ruby": "Other",
                "python": "Other",
                "python2": "Other",
                "python3": "Other",
                "pypy": "Other",
                "SVG": "Other",
                "HTML": "Other",
                "file": "Other",
                "bigquery": "Other",
                "spanner_graph": "Other",
                "shell": "Other"
              }
            }
          },
          "metadata": {},
          "execution_count": 8
        }
      ]
    },
    {
      "cell_type": "code",
      "metadata": {
        "id": "5qL79RJa0O3d"
      },
      "source": [
        "%quickref"
      ],
      "execution_count": 9,
      "outputs": []
    },
    {
      "cell_type": "code",
      "metadata": {
        "id": "9piKpHxh0gDV"
      },
      "source": [
        "help()"
      ],
      "execution_count": null,
      "outputs": []
    },
    {
      "cell_type": "code",
      "metadata": {
        "id": "_OeXznrfW1c3",
        "colab": {
          "base_uri": "https://localhost:8080/"
        },
        "outputId": "07797dfb-6fb6-4abf-b726-d5390de5bb48"
      },
      "source": [
        "# Punktem wejścia programu jest pierwsza komenda napisana\n",
        "# w zerowym wcięciu.\n",
        "print('Hello world')"
      ],
      "execution_count": 10,
      "outputs": [
        {
          "output_type": "stream",
          "name": "stdout",
          "text": [
            "Hello world\n"
          ]
        }
      ]
    },
    {
      "cell_type": "code",
      "metadata": {
        "id": "h9mEWXPGW5FP",
        "colab": {
          "base_uri": "https://localhost:8080/"
        },
        "outputId": "56f46bf3-d08d-43b5-dbd0-17e93217dee2"
      },
      "source": [
        "# Brak średników\n",
        "# Jeżeli chcemy wypisać jakąś zmienną która nie jest napisem\n",
        "# dla typów wbódowanych wystarczy napisać\n",
        "print(12)\n",
        "t=5\n",
        "print(t)"
      ],
      "execution_count": 26,
      "outputs": [
        {
          "output_type": "stream",
          "name": "stdout",
          "text": [
            "12\n",
            "5\n"
          ]
        }
      ]
    },
    {
      "cell_type": "code",
      "source": [
        "t+=1"
      ],
      "metadata": {
        "id": "YtZhwL9FKVjB"
      },
      "execution_count": 24,
      "outputs": []
    },
    {
      "cell_type": "code",
      "metadata": {
        "id": "f4fiVbbKW7Vf",
        "colab": {
          "base_uri": "https://localhost:8080/"
        },
        "outputId": "eb3bbc18-9522-45d8-c733-ca4ebe071094"
      },
      "source": [
        "# Do wypisania sformatowanego napisu tak jak w printf znanym\n",
        "# z C należy użyć metody format z klasy string\n",
        "print('{} ma {} koty'.format(\"Ala\", t))\n",
        "\n",
        "# Dobry opis składni format znajduje się na stronie\n",
        "# https://www.programiz.com/python-programming/methods/string/format"
      ],
      "execution_count": 27,
      "outputs": [
        {
          "output_type": "stream",
          "name": "stdout",
          "text": [
            "Ala ma 5 koty\n"
          ]
        }
      ]
    },
    {
      "cell_type": "code",
      "metadata": {
        "id": "9ero5sncXpds",
        "colab": {
          "base_uri": "https://localhost:8080/"
        },
        "outputId": "de7b3525-57f5-4fe6-832b-7fc942b7d3b7"
      },
      "source": [
        "# W pythonie nie deklaruje się jawnie typów zmiennych jednak ma się\n",
        "# na niego wpływ\n",
        "x = 'abc' # string\n",
        "print(type(x))\n",
        "x = 'a' # nadal string, nie ma tu typu dla pojedynczego znaku\n",
        "print(type(x))\n",
        "x = 12 # integer\n",
        "print(type(x))\n",
        "x = 12.0 # float (tak naprawdę odpowiednik double z C)\n",
        "print(type(x))\n",
        "# Jak widać na powyższym przykładzie zmienną można redefiniować\n",
        "# nawet jako zmienną innego typu."
      ],
      "execution_count": 28,
      "outputs": [
        {
          "output_type": "stream",
          "name": "stdout",
          "text": [
            "<class 'str'>\n",
            "<class 'str'>\n",
            "<class 'int'>\n",
            "<class 'float'>\n"
          ]
        }
      ]
    },
    {
      "cell_type": "code",
      "metadata": {
        "id": "ISMrRWW7q_mv",
        "colab": {
          "base_uri": "https://localhost:8080/"
        },
        "outputId": "c2921e32-d04a-4fa0-d0cc-e81efff1b8b8"
      },
      "source": [
        "# Liczby zespolone\n",
        "a = 1.5 + 0.5j\n",
        "print(a)\n",
        "# Możemy pobrać pojedyńcze wartości z liczby zespolonej\n",
        "print(a.real)\n",
        "print(a.imag)\n",
        "# Możne wykonywać operacje arytmetycnze na całej liczbie\n",
        "a = a * 2\n",
        "print(a)\n",
        "a = a + 2\n",
        "print(a)\n",
        "a = a + 2j\n",
        "print(a)"
      ],
      "execution_count": 29,
      "outputs": [
        {
          "output_type": "stream",
          "name": "stdout",
          "text": [
            "(1.5+0.5j)\n",
            "1.5\n",
            "0.5\n",
            "(3+1j)\n",
            "(5+1j)\n",
            "(5+3j)\n"
          ]
        }
      ]
    },
    {
      "cell_type": "code",
      "metadata": {
        "id": "P9hwRvqhrnbL",
        "colab": {
          "base_uri": "https://localhost:8080/"
        },
        "outputId": "5c7f0e89-2cf7-4273-ddd4-bcd8021ef5ec"
      },
      "source": [
        "# Do wartości losowych wykorzystujemy klase random\n",
        "import random as ran\n",
        "\n",
        "liczba = ran.randint(1, 10)\n",
        "print(liczba)"
      ],
      "execution_count": 30,
      "outputs": [
        {
          "output_type": "stream",
          "name": "stdout",
          "text": [
            "7\n"
          ]
        }
      ]
    },
    {
      "cell_type": "code",
      "metadata": {
        "id": "rShRL5etX5_I",
        "colab": {
          "base_uri": "https://localhost:8080/"
        },
        "outputId": "5b64cf99-685d-4bc3-e0b6-6a1fe539504f"
      },
      "source": [
        "# Innymi ważnymi konstrukcjami w pythonie są listy i słowniki\n",
        "l = [23, 43, 11, 8] # Lista cztero elementowa\n",
        "pl = [] # Pusta lista\n",
        "s = {'Ala':12, 'Jan': 46, 'Roman': 68} # Słownik\n",
        "ps = {} # Pusty słownik\n",
        "\n",
        "l.append(6) # Dodajemy element do listy\n",
        "s['Jadwiga'] = 6 # Dodajemy element do słownika\n",
        "l[2] = 0 # Zmieniamy wartość w liście\n",
        "s['Ala'] = 18 # Zmieniamy wartość w słowniku\n",
        "f = {2:'a', 4:'6'}\n",
        "print(f[2])"
      ],
      "execution_count": 32,
      "outputs": [
        {
          "output_type": "stream",
          "name": "stdout",
          "text": [
            "a\n"
          ]
        }
      ]
    },
    {
      "cell_type": "code",
      "metadata": {
        "id": "gyHRq5DKYALV",
        "colab": {
          "base_uri": "https://localhost:8080/"
        },
        "outputId": "4e0cad0a-3a43-4d83-a2d3-c8f696917fe8"
      },
      "source": [
        "# Po listach można iterować za pomocą pętli for\n",
        "for a in l:\n",
        "  print(a)\n",
        "# Poszczególne bloki kodu oznaczamy tabulacją a nie klamrami {}"
      ],
      "execution_count": 35,
      "outputs": [
        {
          "output_type": "stream",
          "name": "stdout",
          "text": [
            "23\n",
            "43\n",
            "0\n",
            "8\n",
            "6\n"
          ]
        }
      ]
    },
    {
      "cell_type": "code",
      "metadata": {
        "id": "4kYLRT6aYI4u",
        "colab": {
          "base_uri": "https://localhost:8080/"
        },
        "outputId": "09b40a50-2282-4312-8fe2-f2dc5cfd7e62"
      },
      "source": [
        "# Jeżeli chcemy iterować po słowniku musimy\n",
        "# użyć metody która zwróci nam listę par\n",
        "# klucz:warotść\n",
        "for key, value in s.items():\n",
        "    print('{} : {}'.format(key, value))"
      ],
      "execution_count": 36,
      "outputs": [
        {
          "output_type": "stream",
          "name": "stdout",
          "text": [
            "Ala : 18\n",
            "Jan : 46\n",
            "Roman : 68\n",
            "Jadwiga : 6\n"
          ]
        }
      ]
    },
    {
      "cell_type": "code",
      "metadata": {
        "id": "ZgZFIYjQYK_k",
        "colab": {
          "base_uri": "https://localhost:8080/"
        },
        "outputId": "91db2d3b-7208-40df-bc22-96cd8b859670"
      },
      "source": [
        "# W pythonie nie ma pętli for takiej jak w C, Bardziej przypomina pętle z basha\n",
        "# jeżeli chcemy iterować po kolejnych liczbach\n",
        "# musimy użyć funckji range która wygeneruje nam\n",
        "# listę z liczbami\n",
        "for i in range(10):\n",
        "    print(i)\n",
        "print('---')\n",
        "for i in range(15, 20):\n",
        "    print(i)\n",
        "print('---')\n",
        "for i in range(0, 10, 2):\n",
        "  print(i)"
      ],
      "execution_count": 37,
      "outputs": [
        {
          "output_type": "stream",
          "name": "stdout",
          "text": [
            "0\n",
            "1\n",
            "2\n",
            "3\n",
            "4\n",
            "5\n",
            "6\n",
            "7\n",
            "8\n",
            "9\n",
            "---\n",
            "15\n",
            "16\n",
            "17\n",
            "18\n",
            "19\n",
            "---\n",
            "0\n",
            "2\n",
            "4\n",
            "6\n",
            "8\n"
          ]
        }
      ]
    },
    {
      "cell_type": "code",
      "metadata": {
        "id": "ZudAVuDhYK3f",
        "colab": {
          "base_uri": "https://localhost:8080/"
        },
        "outputId": "35b5f7ed-f5fe-45e4-8f10-39243406ee64"
      },
      "source": [
        "# Poprawny sposób iterowania po liście przy jednoczesnym\n",
        "# dostępie do indeksu aktualnego elementu wygląda następująco\n",
        "for index, value in enumerate(l):\n",
        "    print('{} : {}'.format(index, value))"
      ],
      "execution_count": 38,
      "outputs": [
        {
          "output_type": "stream",
          "name": "stdout",
          "text": [
            "0 : 23\n",
            "1 : 43\n",
            "2 : 0\n",
            "3 : 8\n",
            "4 : 6\n"
          ]
        }
      ]
    },
    {
      "cell_type": "code",
      "metadata": {
        "id": "9j5hu4zoYKvE",
        "colab": {
          "base_uri": "https://localhost:8080/"
        },
        "outputId": "0f8ba694-cccb-46de-8273-afa085459113"
      },
      "source": [
        "# Inną możliwą pętlą jest while\n",
        "a = 3\n",
        "while a>len(pl):\n",
        "    pl.append(3)\n",
        "# len(l) zwraca rozmiar listy l\n",
        "print(pl)\n",
        "# Podobnie jak w C w pythonie można przerywać pętle za pomocą\n",
        "# instrukcji break i continue"
      ],
      "execution_count": 39,
      "outputs": [
        {
          "output_type": "stream",
          "name": "stdout",
          "text": [
            "[3, 3, 3]\n"
          ]
        }
      ]
    },
    {
      "cell_type": "code",
      "metadata": {
        "id": "TFJGXmAaYKiH",
        "colab": {
          "base_uri": "https://localhost:8080/"
        },
        "outputId": "a3f187d1-518a-49ed-d6a6-cf7d37455453"
      },
      "source": [
        "# Konstrukcja if else wygląda następująco\n",
        "a = ran.randint(1, 10)\n",
        "if a>3:\n",
        "    print('a jest większe od 3')\n",
        "elif a<0:\n",
        "    print('a jest liczbą ujemną')\n",
        "else:\n",
        "    print('a jest w przedziale od 0 do 3')"
      ],
      "execution_count": 40,
      "outputs": [
        {
          "output_type": "stream",
          "name": "stdout",
          "text": [
            "a jest w przedziale od 0 do 3\n"
          ]
        }
      ]
    },
    {
      "cell_type": "code",
      "metadata": {
        "id": "22URiw4PYcEu",
        "colab": {
          "base_uri": "https://localhost:8080/"
        },
        "outputId": "86ce78ed-d92c-47c8-cc89-c9e22ace7613"
      },
      "source": [
        "# Jeżeli lista zawiera typy podstawowe lub dobrze zdefiniowane klasy\n",
        "# możemy wykorzystać różne przydatne funkcje\n",
        "print(min(l))\n",
        "print(max(l))\n",
        "print(sum(l))\n",
        "print(sum(l) / len(l))"
      ],
      "execution_count": 41,
      "outputs": [
        {
          "output_type": "stream",
          "name": "stdout",
          "text": [
            "0\n",
            "43\n",
            "80\n",
            "16.0\n"
          ]
        }
      ]
    },
    {
      "cell_type": "code",
      "metadata": {
        "id": "A96Az6SlMPtf",
        "colab": {
          "base_uri": "https://localhost:8080/"
        },
        "outputId": "784e16ed-7c86-40e1-bf59-2198b7868bc0"
      },
      "source": [
        "# Zwróćmy uwagę na to jakie wyniki daje dzielenie (// dzielenie bez reszty)\n",
        "a = 1\n",
        "b = 2\n",
        "c = 1.0\n",
        "d = 2.0\n",
        "print('{} ({})'.format(a / b, type(a / b)))\n",
        "print('{} ({})'.format(a / d, type(a / d)))\n",
        "print('{} ({})'.format(c / b, type(c / b)))\n",
        "print('{} ({})'.format(c / d, type(c / d)))\n",
        "print('{} ({})'.format(a // b, type(a // b)))\n",
        "print('{} ({})'.format(c // d, type(c // d)))"
      ],
      "execution_count": 42,
      "outputs": [
        {
          "output_type": "stream",
          "name": "stdout",
          "text": [
            "0.5 (<class 'float'>)\n",
            "0.5 (<class 'float'>)\n",
            "0.5 (<class 'float'>)\n",
            "0.5 (<class 'float'>)\n",
            "0 (<class 'int'>)\n",
            "0.0 (<class 'float'>)\n"
          ]
        }
      ]
    },
    {
      "cell_type": "code",
      "metadata": {
        "id": "XMf5syckUbrB"
      },
      "source": [
        "\n",
        "# Tak wygląda definicja klasy w Pythonie.\n",
        "# W odróżnieniu od Javy czy C++ nie deklaruje się oddzielnie pól klasy, tworzone\n",
        "# są one w chwili inicjalizacji w konstruktorze.\n",
        "# Możliwe jest dynamiczne dodawanie pól do już istniejących obiektów.\n",
        "# Nie stosuje się tutaj też zazwyczaj getterów i setterów chyba że mają jakieś\n",
        "# dodatkowe funkcjonalnosci, jak na przykład obsługa błędów.\n",
        "class MyComplex:\n",
        "\n",
        "    # To jest konstruktor. W pythonie nie ma możliwości przeładowania\n",
        "    # konstruktora. Dodatkowo w karzdej metodzie klasy trzeba zadeklarować\n",
        "    # self, odpowiednik this z C, jako jawny parametr\n",
        "    def __init__(self, re=4., im=0.):\n",
        "        # Dobrze jest się w konstruktorze upewnić że wszystko jest takiego typu\n",
        "        # jak chcemy.\n",
        "        # Możliwe jest podanie dowolnych typów jako parametry i jeżeli obiekt\n",
        "        # ma długi cykl życia to błąd może się pojawić bardzo daleko od swojego\n",
        "        # źródła.\n",
        "        self.re = float(re)\n",
        "        self.im = float(im)\n",
        "\n",
        "    # Przykład najzwyklejszej metody, sprawdza czy dana liczba ma zerową\n",
        "    # część urojoną.\n",
        "    def is_real_number(self):\n",
        "        return self.im == 0  # Do pól trzeba odwoływać się przez self.nazwa_pola\n",
        "\n",
        "    # Metody specjalne mają na końcu i na początku dwa podkreślniki.\n",
        "    # Ta funkcja zostanie wywołana kiedy będziemy chcieli przekonwertować obiekt do napisu.\n",
        "    def __str__(self):\n",
        "        return '{} + i{}'.format(self.re, self.im)\n",
        "\n",
        "    # Ta funkcja wywoływana jest też przy konwersji do napisu ale w innych kontekstach.\n",
        "    # Dla większości podstawowych zastosowań starczy implementacja jak poniżej\n",
        "    def __repr__(self):\n",
        "        return self.__str__()\n",
        "\n",
        "    # Funkcja obsługuje dodawanie\n",
        "    def __add__(self, other):\n",
        "        # Jeżeli druga liczba jest też zespolona dodajemy odpowiednio części\n",
        "        # rzeczywiste i urojone\n",
        "        if isinstance(other, MyComplex):\n",
        "            return MyComplex(self.re + other.re, self.im + other.im)\n",
        "        # Jeżeli jest to liczba rzeczywista do dodajemy ją do części rzeczywistej\n",
        "        # naszej liczby.\n",
        "        elif isinstance(other, (int, float)):\n",
        "            return MyComplex(self.re + other, self.im)\n",
        "        else:\n",
        "            raise TypeError()"
      ],
      "execution_count": 43,
      "outputs": []
    },
    {
      "cell_type": "code",
      "source": [
        "a = MyComplex(1, 4)\n",
        "b = MyComplex(im=5.)\n",
        "print('a={}'.format(a))\n",
        "print('b={}'.format(b))\n",
        "print('a+b={}'.format(a + b))\n",
        "\n",
        "b.d=6\n",
        "print(b.d)"
      ],
      "metadata": {
        "id": "2P6IynqSdUYk",
        "colab": {
          "base_uri": "https://localhost:8080/"
        },
        "outputId": "6f7f8e2f-1413-4912-e8c3-abea5a5d1dd4"
      },
      "execution_count": 44,
      "outputs": [
        {
          "output_type": "stream",
          "name": "stdout",
          "text": [
            "a=1.0 + i4.0\n",
            "b=4.0 + i5.0\n",
            "a+b=5.0 + i9.0\n",
            "6\n"
          ]
        }
      ]
    },
    {
      "cell_type": "code",
      "metadata": {
        "id": "rZmLyufspXIl"
      },
      "source": [
        "# Dobrze napisany skrypt w pythonie tak naprawdę nie powinien mieć swojego głównego kodu\n",
        "# w \"zerowym wcięciu\" ponieważ powoduje to problemy przy importach.\n",
        "# Dokładniej taki kod zostanie wywołany w chwili zaimportowania danego skryptu.\n",
        "# Dlatego należy stworzyć funkcję main() a następnie uruchamiać ją tylko wtedy kiedy skrypt\n",
        "# został wywołany bezpośrednio z terminala a nie poprzez improt.\n",
        "def main():\n",
        "    # Demonstracja naszej klasy\n",
        "    a = MyComplex(1, 4)\n",
        "    b = MyComplex(3, 3)\n",
        "    print('a={}'.format(a))\n",
        "    print('b={}'.format(b))\n",
        "    print('a+b={}'.format(a + b))\n",
        "\n",
        "    # Kilka ciekawych zmiennych specjalnych\n",
        "    print(__name__) #  Nazwa modółu jeżeli import albo \"__main__\" jeżli odpalone z konsoli\n",
        "    print(globals()) #  Słownik zawierający zmienne globalne (można go edytować)\n",
        "    print(locals())  # Słownik zawierający zmienne lokalne (można go edytować)"
      ],
      "execution_count": null,
      "outputs": []
    },
    {
      "cell_type": "code",
      "metadata": {
        "id": "d4vJTBr4pZ0j",
        "colab": {
          "base_uri": "https://localhost:8080/"
        },
        "outputId": "50a127ee-0619-4d21-9021-e8e15b27d4ab"
      },
      "source": [
        "# Ta konstrukcja sprawdza czy nasz skrypt został wywołany bezpośrednio z konsoli,\n",
        "if __name__ == '__main__':\n",
        "    main()"
      ],
      "execution_count": null,
      "outputs": [
        {
          "output_type": "stream",
          "name": "stdout",
          "text": [
            "a=1.0 + i4.0\n",
            "b=3.0 + i3.0\n",
            "a+b=4.0 + i7.0\n",
            "__main__\n",
            "{'__name__': '__main__', '__doc__': 'Automatically created module for IPython interactive environment', '__package__': None, '__loader__': None, '__spec__': None, '__builtin__': <module 'builtins' (built-in)>, '__builtins__': <module 'builtins' (built-in)>, '_ih': ['', \"# Ponieważ serwer colab bazuje na platformie linux możemy używac komend basha\\n# Wyświetlenie aktualnej ścieżki\\nget_ipython().system('pwd')\", \"# Wyświetlenie zawartości katalogu\\nget_ipython().system('ls')\", \"# Tworzenie katalogu\\nget_ipython().system('mkdir test')\", \"get_ipython().system('ls')\", \"# Usunięcie katalogu\\nget_ipython().system('rm -r test')\", \"get_ipython().system('ls')\", \"# Instalacja pakietu\\nget_ipython().system('pip install tensorflow')\", \"get_ipython().run_line_magic('lsmagic', '')\", \"get_ipython().run_line_magic('quickref', '')\", 'help()', \"# Punktem wejścia programu jest pierwsza komenda napisana\\n# w zerowym wcięciu.\\nprint('Hello world')\", '# Brak średników\\n# Jeżeli chcemy wypisać jakąś zmienną która nie jest napisem\\n# dla typów wbódowanych wystarczy napisać\\nprint(12)\\nt=5\\nprint(t)', 't+=1', '# Do wypisania sformatowanego napisu tak jak w printf znanym\\n# z C należy użyć metody format z klasy string\\nprint(\\'{} ma {} koty\\'.format(\"Ala\", t))\\n\\n# Dobry opis składni format znajduje się na stronie\\n# https://www.programiz.com/python-programming/methods/string/format', \"# W pythonie nie deklaruje się jawnie typów zmiennych jednak ma się\\n# na niego wpływ\\nx = 'abc' # string\\nprint(type(x))\\nx = 'a' # nadal string, nie ma tu typu dla pojedynczego znaku\\nprint(type(x))\\nx = 12 # integer\\nprint(type(x))\\nx = 12.0 # float (tak naprawdę odpowiednik double z C)\\nprint(type(x))\\n# Jak widać na powyższym przykładzie zmienną można redefiniować\\n# nawet jako zmienną innego typu.\", '# Liczby zespolone\\na = 1.5 + 0.5j\\nprint(a)\\n# Możemy pobrać pojedyńcze wartości z liczby zespolonej\\nprint(a.real)\\nprint(a.imag)\\n# Możne wykonywać operacje arytmetycnze na całej liczbie\\na = a * 2\\nprint(a)\\na = a + 2\\nprint(a)\\na = a + 2j\\nprint(a)', '# Do wartości losowych wykorzystujemy klase random\\nimport random as ran\\n\\nliczba = ran.randint(1, 10)\\nprint(liczba)', \"# Innymi ważnymi konstrukcjami w pythonie są listy i słowniki\\nl = [23, 43, 11, 8] # Lista cztero elementowa\\npl = [] # Pusta lista\\ns = {'Ala':12, 'Jan': 46, 'Roman': 68} # Słownik\\nps = {} # Pusty słownik\\n\\nl.append(6) # Dodajemy element do listy\\ns['Jadwiga'] = 6 # Dodajemy element do słownika\\nl[2] = 0 # Zmieniamy wartość w liście\\ns['Ala'] = 18 # Zmieniamy wartość w słowniku\\nf = {2:'a', 4:'6'}\\nprint(f[2])\", '# Po listach można iterować za pomocą pętli for\\nfor a in l:\\n  print(a)\\n# Poszczególne bloki kodu oznaczamy tabulacją a nie klamrami {}', \"# Jeżeli chcemy iterować po słowniku musimy\\n# użyć metody która zwróci nam listę par\\n# klucz:warotść\\nfor key, value in s.items():\\n    print('{} : {}'.format(key, value))\", \"# W pythonie nie ma pętli for takiej jak w C, Bardziej przypomina pętle z basha\\n# jeżeli chcemy iterować po kolejnych liczbach\\n# musimy użyć funckji range która wygeneruje nam\\n# listę z liczbami\\nfor i in range(10):\\n    print(i)\\nprint('---')\\nfor i in range(15, 20):\\n    print(i)\\nprint('---')\\nfor i in range(0, 10, 2):\\n  print(i)\", \"# Poprawny sposób iterowania po liście przy jednoczesnym\\n# dostępie do indeksu aktualnego elementu wygląda następująco\\nfor index, value in enumerate(l):\\n    print('{} : {}'.format(index, value))\", '# Inną możliwą pętlą jest while\\na = 3\\nwhile a>len(pl):\\n    pl.append(3)\\n# len(l) zwraca rozmiar listy l\\nprint(pl)\\n# Podobnie jak w C w pythonie można przerywać pętle za pomocą\\n# instrukcji break i continue', \"# Konstrukcja if else wygląda następująco\\na = ran.randint(1, 10)\\nif a>3:\\n    print('a jest większe od 3')\\nelif a<0:\\n    print('a jest liczbą ujemną')\\nelse:\\n    print('a jest w przedziale od 0 do 3')\", '# Jeżeli lista zawiera typy podstawowe lub dobrze zdefiniowane klasy\\n# możemy wykorzystać różne przydatne funkcje\\nprint(min(l))\\nprint(max(l))\\nprint(sum(l))\\nprint(sum(l) / len(l))', \"# Zwróćmy uwagę na to jakie wyniki daje dzielenie (// dzielenie bez reszty)\\na = 1\\nb = 2\\nc = 1.0\\nd = 2.0\\nprint('{} ({})'.format(a / b, type(a / b)))\\nprint('{} ({})'.format(a / d, type(a / d)))\\nprint('{} ({})'.format(c / b, type(c / b)))\\nprint('{} ({})'.format(c / d, type(c / d)))\\nprint('{} ({})'.format(a // b, type(a // b)))\\nprint('{} ({})'.format(c // d, type(c // d)))\", \"# Tak wygląda definicja klasy w Pythonie.\\n# W odróżnieniu od Javy czy C++ nie deklaruje się oddzielnie pól klasy, tworzone\\n# są one w chwili inicjalizacji w konstruktorze.\\n# Możliwe jest dynamiczne dodawanie pól do już istniejących obiektów.\\n# Nie stosuje się tutaj też zazwyczaj getterów i setterów chyba że mają jakieś\\n# dodatkowe funkcjonalnosci, jak na przykład obsługa błędów.\\nclass MyComplex:\\n\\n    # To jest konstruktor. W pythonie nie ma możliwości przeładowania\\n    # konstruktora. Dodatkowo w karzdej metodzie klasy trzeba zadeklarować\\n    # self, odpowiednik this z C, jako jawny parametr\\n    def __init__(self, re=4., im=0.):\\n        # Dobrze jest się w konstruktorze upewnić że wszystko jest takiego typu\\n        # jak chcemy.\\n        # Możliwe jest podanie dowolnych typów jako parametry i jeżeli obiekt\\n        # ma długi cykl życia to błąd może się pojawić bardzo daleko od swojego\\n        # źródła.\\n        self.re = float(re)\\n        self.im = float(im)\\n\\n    # Przykład najzwyklejszej metody, sprawdza czy dana liczba ma zerową\\n    # część urojoną.\\n    def is_real_number(self):\\n        return self.im == 0  # Do pól trzeba odwoływać się przez self.nazwa_pola\\n\\n    # Metody specjalne mają na końcu i na początku dwa podkreślniki.\\n    # Ta funkcja zostanie wywołana kiedy będziemy chcieli przekonwertować obiekt do napisu.\\n    def __str__(self):\\n        return '{} + i{}'.format(self.re, self.im)\\n\\n    # Ta funkcja wywoływana jest też przy konwersji do napisu ale w innych kontekstach.\\n    # Dla większości podstawowych zastosowań starczy implementacja jak poniżej\\n    def __repr__(self):\\n        return self.__str__()\\n\\n    # Funkcja obsługuje dodawanie\\n    def __add__(self, other):\\n        # Jeżeli druga liczba jest też zespolona dodajemy odpowiednio części\\n        # rzeczywiste i urojone\\n        if isinstance(other, MyComplex):\\n            return MyComplex(self.re + other.re, self.im + other.im)\\n        # Jeżeli jest to liczba rzeczywista do dodajemy ją do części rzeczywistej\\n        # naszej liczby.\\n        elif isinstance(other, (int, float)):\\n            return MyComplex(self.re + other, self.im)\\n        else:\\n            raise TypeError()\", \"a = MyComplex(1, 4)\\nb = MyComplex(im=5.)\\nprint('a={}'.format(a))\\nprint('b={}'.format(b))\\nprint('a+b={}'.format(a + b))\\n\\nb.d=6\\nprint(b.d)\", '# Dobrze napisany skrypt w pythonie tak naprawdę nie powinien mieć swojego głównego kodu\\n# w \"zerowym wcięciu\" ponieważ powoduje to problemy przy importach.\\n# Dokładniej taki kod zostanie wywołany w chwili zaimportowania danego skryptu.\\n# Dlatego należy stworzyć funkcję main() a następnie uruchamiać ją tylko wtedy kiedy skrypt\\n# został wywołany bezpośrednio z terminala a nie poprzez improt.\\ndef main():\\n    # Demonstracja naszej klasy\\n    a = MyComplex(1, 4)\\n    b = MyComplex(3, 3)\\n    print(\\'a={}\\'.format(a))\\n    print(\\'b={}\\'.format(b))\\n    print(\\'a+b={}\\'.format(a + b))\\n\\n    # Kilka ciekawych zmiennych specjalnych\\n    print(__name__) #  Nazwa modółu jeżeli import albo \"__main__\" jeżli odpalone z konsoli\\n    print(globals()) #  Słownik zawierający zmienne globalne (można go edytować)\\n    print(locals())  # Słownik zawierający zmienne lokalne (można go edytować)', \"# Ta konstrukcja sprawdza czy nasz skrypt został wywołany bezpośrednio z konsoli,\\nif __name__ == '__main__':\\n    main()\"], '_oh': {8: <IPython.core.magics.basic.MagicsDisplay object at 0x7f8e7c86f510>}, '_dh': ['/content'], 'In': ['', \"# Ponieważ serwer colab bazuje na platformie linux możemy używac komend basha\\n# Wyświetlenie aktualnej ścieżki\\nget_ipython().system('pwd')\", \"# Wyświetlenie zawartości katalogu\\nget_ipython().system('ls')\", \"# Tworzenie katalogu\\nget_ipython().system('mkdir test')\", \"get_ipython().system('ls')\", \"# Usunięcie katalogu\\nget_ipython().system('rm -r test')\", \"get_ipython().system('ls')\", \"# Instalacja pakietu\\nget_ipython().system('pip install tensorflow')\", \"get_ipython().run_line_magic('lsmagic', '')\", \"get_ipython().run_line_magic('quickref', '')\", 'help()', \"# Punktem wejścia programu jest pierwsza komenda napisana\\n# w zerowym wcięciu.\\nprint('Hello world')\", '# Brak średników\\n# Jeżeli chcemy wypisać jakąś zmienną która nie jest napisem\\n# dla typów wbódowanych wystarczy napisać\\nprint(12)\\nt=5\\nprint(t)', 't+=1', '# Do wypisania sformatowanego napisu tak jak w printf znanym\\n# z C należy użyć metody format z klasy string\\nprint(\\'{} ma {} koty\\'.format(\"Ala\", t))\\n\\n# Dobry opis składni format znajduje się na stronie\\n# https://www.programiz.com/python-programming/methods/string/format', \"# W pythonie nie deklaruje się jawnie typów zmiennych jednak ma się\\n# na niego wpływ\\nx = 'abc' # string\\nprint(type(x))\\nx = 'a' # nadal string, nie ma tu typu dla pojedynczego znaku\\nprint(type(x))\\nx = 12 # integer\\nprint(type(x))\\nx = 12.0 # float (tak naprawdę odpowiednik double z C)\\nprint(type(x))\\n# Jak widać na powyższym przykładzie zmienną można redefiniować\\n# nawet jako zmienną innego typu.\", '# Liczby zespolone\\na = 1.5 + 0.5j\\nprint(a)\\n# Możemy pobrać pojedyńcze wartości z liczby zespolonej\\nprint(a.real)\\nprint(a.imag)\\n# Możne wykonywać operacje arytmetycnze na całej liczbie\\na = a * 2\\nprint(a)\\na = a + 2\\nprint(a)\\na = a + 2j\\nprint(a)', '# Do wartości losowych wykorzystujemy klase random\\nimport random as ran\\n\\nliczba = ran.randint(1, 10)\\nprint(liczba)', \"# Innymi ważnymi konstrukcjami w pythonie są listy i słowniki\\nl = [23, 43, 11, 8] # Lista cztero elementowa\\npl = [] # Pusta lista\\ns = {'Ala':12, 'Jan': 46, 'Roman': 68} # Słownik\\nps = {} # Pusty słownik\\n\\nl.append(6) # Dodajemy element do listy\\ns['Jadwiga'] = 6 # Dodajemy element do słownika\\nl[2] = 0 # Zmieniamy wartość w liście\\ns['Ala'] = 18 # Zmieniamy wartość w słowniku\\nf = {2:'a', 4:'6'}\\nprint(f[2])\", '# Po listach można iterować za pomocą pętli for\\nfor a in l:\\n  print(a)\\n# Poszczególne bloki kodu oznaczamy tabulacją a nie klamrami {}', \"# Jeżeli chcemy iterować po słowniku musimy\\n# użyć metody która zwróci nam listę par\\n# klucz:warotść\\nfor key, value in s.items():\\n    print('{} : {}'.format(key, value))\", \"# W pythonie nie ma pętli for takiej jak w C, Bardziej przypomina pętle z basha\\n# jeżeli chcemy iterować po kolejnych liczbach\\n# musimy użyć funckji range która wygeneruje nam\\n# listę z liczbami\\nfor i in range(10):\\n    print(i)\\nprint('---')\\nfor i in range(15, 20):\\n    print(i)\\nprint('---')\\nfor i in range(0, 10, 2):\\n  print(i)\", \"# Poprawny sposób iterowania po liście przy jednoczesnym\\n# dostępie do indeksu aktualnego elementu wygląda następująco\\nfor index, value in enumerate(l):\\n    print('{} : {}'.format(index, value))\", '# Inną możliwą pętlą jest while\\na = 3\\nwhile a>len(pl):\\n    pl.append(3)\\n# len(l) zwraca rozmiar listy l\\nprint(pl)\\n# Podobnie jak w C w pythonie można przerywać pętle za pomocą\\n# instrukcji break i continue', \"# Konstrukcja if else wygląda następująco\\na = ran.randint(1, 10)\\nif a>3:\\n    print('a jest większe od 3')\\nelif a<0:\\n    print('a jest liczbą ujemną')\\nelse:\\n    print('a jest w przedziale od 0 do 3')\", '# Jeżeli lista zawiera typy podstawowe lub dobrze zdefiniowane klasy\\n# możemy wykorzystać różne przydatne funkcje\\nprint(min(l))\\nprint(max(l))\\nprint(sum(l))\\nprint(sum(l) / len(l))', \"# Zwróćmy uwagę na to jakie wyniki daje dzielenie (// dzielenie bez reszty)\\na = 1\\nb = 2\\nc = 1.0\\nd = 2.0\\nprint('{} ({})'.format(a / b, type(a / b)))\\nprint('{} ({})'.format(a / d, type(a / d)))\\nprint('{} ({})'.format(c / b, type(c / b)))\\nprint('{} ({})'.format(c / d, type(c / d)))\\nprint('{} ({})'.format(a // b, type(a // b)))\\nprint('{} ({})'.format(c // d, type(c // d)))\", \"# Tak wygląda definicja klasy w Pythonie.\\n# W odróżnieniu od Javy czy C++ nie deklaruje się oddzielnie pól klasy, tworzone\\n# są one w chwili inicjalizacji w konstruktorze.\\n# Możliwe jest dynamiczne dodawanie pól do już istniejących obiektów.\\n# Nie stosuje się tutaj też zazwyczaj getterów i setterów chyba że mają jakieś\\n# dodatkowe funkcjonalnosci, jak na przykład obsługa błędów.\\nclass MyComplex:\\n\\n    # To jest konstruktor. W pythonie nie ma możliwości przeładowania\\n    # konstruktora. Dodatkowo w karzdej metodzie klasy trzeba zadeklarować\\n    # self, odpowiednik this z C, jako jawny parametr\\n    def __init__(self, re=4., im=0.):\\n        # Dobrze jest się w konstruktorze upewnić że wszystko jest takiego typu\\n        # jak chcemy.\\n        # Możliwe jest podanie dowolnych typów jako parametry i jeżeli obiekt\\n        # ma długi cykl życia to błąd może się pojawić bardzo daleko od swojego\\n        # źródła.\\n        self.re = float(re)\\n        self.im = float(im)\\n\\n    # Przykład najzwyklejszej metody, sprawdza czy dana liczba ma zerową\\n    # część urojoną.\\n    def is_real_number(self):\\n        return self.im == 0  # Do pól trzeba odwoływać się przez self.nazwa_pola\\n\\n    # Metody specjalne mają na końcu i na początku dwa podkreślniki.\\n    # Ta funkcja zostanie wywołana kiedy będziemy chcieli przekonwertować obiekt do napisu.\\n    def __str__(self):\\n        return '{} + i{}'.format(self.re, self.im)\\n\\n    # Ta funkcja wywoływana jest też przy konwersji do napisu ale w innych kontekstach.\\n    # Dla większości podstawowych zastosowań starczy implementacja jak poniżej\\n    def __repr__(self):\\n        return self.__str__()\\n\\n    # Funkcja obsługuje dodawanie\\n    def __add__(self, other):\\n        # Jeżeli druga liczba jest też zespolona dodajemy odpowiednio części\\n        # rzeczywiste i urojone\\n        if isinstance(other, MyComplex):\\n            return MyComplex(self.re + other.re, self.im + other.im)\\n        # Jeżeli jest to liczba rzeczywista do dodajemy ją do części rzeczywistej\\n        # naszej liczby.\\n        elif isinstance(other, (int, float)):\\n            return MyComplex(self.re + other, self.im)\\n        else:\\n            raise TypeError()\", \"a = MyComplex(1, 4)\\nb = MyComplex(im=5.)\\nprint('a={}'.format(a))\\nprint('b={}'.format(b))\\nprint('a+b={}'.format(a + b))\\n\\nb.d=6\\nprint(b.d)\", '# Dobrze napisany skrypt w pythonie tak naprawdę nie powinien mieć swojego głównego kodu\\n# w \"zerowym wcięciu\" ponieważ powoduje to problemy przy importach.\\n# Dokładniej taki kod zostanie wywołany w chwili zaimportowania danego skryptu.\\n# Dlatego należy stworzyć funkcję main() a następnie uruchamiać ją tylko wtedy kiedy skrypt\\n# został wywołany bezpośrednio z terminala a nie poprzez improt.\\ndef main():\\n    # Demonstracja naszej klasy\\n    a = MyComplex(1, 4)\\n    b = MyComplex(3, 3)\\n    print(\\'a={}\\'.format(a))\\n    print(\\'b={}\\'.format(b))\\n    print(\\'a+b={}\\'.format(a + b))\\n\\n    # Kilka ciekawych zmiennych specjalnych\\n    print(__name__) #  Nazwa modółu jeżeli import albo \"__main__\" jeżli odpalone z konsoli\\n    print(globals()) #  Słownik zawierający zmienne globalne (można go edytować)\\n    print(locals())  # Słownik zawierający zmienne lokalne (można go edytować)', \"# Ta konstrukcja sprawdza czy nasz skrypt został wywołany bezpośrednio z konsoli,\\nif __name__ == '__main__':\\n    main()\"], 'Out': {8: <IPython.core.magics.basic.MagicsDisplay object at 0x7f8e7c86f510>}, 'get_ipython': <bound method InteractiveShell.get_ipython of <google.colab._shell.Shell object at 0x7f8e85eff0d0>>, 'exit': <IPython.core.autocall.ZMQExitAutocall object at 0x7f8e85f11d10>, 'quit': <IPython.core.autocall.ZMQExitAutocall object at 0x7f8e85f11d10>, '_': <IPython.core.magics.basic.MagicsDisplay object at 0x7f8e7c86f510>, '__': '', '___': '', '_i': '# Dobrze napisany skrypt w pythonie tak naprawdę nie powinien mieć swojego głównego kodu\\n# w \"zerowym wcięciu\" ponieważ powoduje to problemy przy importach.\\n# Dokładniej taki kod zostanie wywołany w chwili zaimportowania danego skryptu.\\n# Dlatego należy stworzyć funkcję main() a następnie uruchamiać ją tylko wtedy kiedy skrypt\\n# został wywołany bezpośrednio z terminala a nie poprzez improt.\\ndef main():\\n    # Demonstracja naszej klasy\\n    a = MyComplex(1, 4)\\n    b = MyComplex(3, 3)\\n    print(\\'a={}\\'.format(a))\\n    print(\\'b={}\\'.format(b))\\n    print(\\'a+b={}\\'.format(a + b))\\n\\n    # Kilka ciekawych zmiennych specjalnych\\n    print(__name__) #  Nazwa modółu jeżeli import albo \"__main__\" jeżli odpalone z konsoli\\n    print(globals()) #  Słownik zawierający zmienne globalne (można go edytować)\\n    print(locals())  # Słownik zawierający zmienne lokalne (można go edytować)', '_ii': \"a = MyComplex(1, 4)\\nb = MyComplex(im=5.)\\nprint('a={}'.format(a))\\nprint('b={}'.format(b))\\nprint('a+b={}'.format(a + b))\\n\\nb.d=6\\nprint(b.d)\", '_iii': \"\\n# Tak wygląda definicja klasy w Pythonie.\\n# W odróżnieniu od Javy czy C++ nie deklaruje się oddzielnie pól klasy, tworzone\\n# są one w chwili inicjalizacji w konstruktorze.\\n# Możliwe jest dynamiczne dodawanie pól do już istniejących obiektów.\\n# Nie stosuje się tutaj też zazwyczaj getterów i setterów chyba że mają jakieś\\n# dodatkowe funkcjonalnosci, jak na przykład obsługa błędów.\\nclass MyComplex:\\n\\n    # To jest konstruktor. W pythonie nie ma możliwości przeładowania\\n    # konstruktora. Dodatkowo w karzdej metodzie klasy trzeba zadeklarować\\n    # self, odpowiednik this z C, jako jawny parametr\\n    def __init__(self, re=4., im=0.):\\n        # Dobrze jest się w konstruktorze upewnić że wszystko jest takiego typu\\n        # jak chcemy.\\n        # Możliwe jest podanie dowolnych typów jako parametry i jeżeli obiekt\\n        # ma długi cykl życia to błąd może się pojawić bardzo daleko od swojego\\n        # źródła.\\n        self.re = float(re)\\n        self.im = float(im)\\n\\n    # Przykład najzwyklejszej metody, sprawdza czy dana liczba ma zerową\\n    # część urojoną.\\n    def is_real_number(self):\\n        return self.im == 0  # Do pól trzeba odwoływać się przez self.nazwa_pola\\n\\n    # Metody specjalne mają na końcu i na początku dwa podkreślniki.\\n    # Ta funkcja zostanie wywołana kiedy będziemy chcieli przekonwertować obiekt do napisu.\\n    def __str__(self):\\n        return '{} + i{}'.format(self.re, self.im)\\n\\n    # Ta funkcja wywoływana jest też przy konwersji do napisu ale w innych kontekstach.\\n    # Dla większości podstawowych zastosowań starczy implementacja jak poniżej\\n    def __repr__(self):\\n        return self.__str__()\\n\\n    # Funkcja obsługuje dodawanie\\n    def __add__(self, other):\\n        # Jeżeli druga liczba jest też zespolona dodajemy odpowiednio części\\n        # rzeczywiste i urojone\\n        if isinstance(other, MyComplex):\\n            return MyComplex(self.re + other.re, self.im + other.im)\\n        # Jeżeli jest to liczba rzeczywista do dodajemy ją do części rzeczywistej\\n        # naszej liczby.\\n        elif isinstance(other, (int, float)):\\n            return MyComplex(self.re + other, self.im)\\n        else:\\n            raise TypeError()\", '_i1': '# Ponieważ serwer colab bazuje na platformie linux możemy używac komend basha\\n# Wyświetlenie aktualnej ścieżki\\n!pwd', '_exit_code': 0, '_i2': '# Wyświetlenie zawartości katalogu\\n!ls', '_i3': '# Tworzenie katalogu\\n!mkdir test', '_i4': '!ls', '_i5': '# Usunięcie katalogu\\n!rm -r test', '_i6': '!ls', '_i7': '# Instalacja pakietu\\n!pip install tensorflow', '_i8': '%lsmagic', '_8': <IPython.core.magics.basic.MagicsDisplay object at 0x7f8e7c86f510>, '_i9': '%quickref', '_i10': 'help()', '_i11': \"# Punktem wejścia programu jest pierwsza komenda napisana\\n# w zerowym wcięciu.\\nprint('Hello world')\", '_i12': '# Brak średników\\n# Jeżeli chcemy wypisać jakąś zmienną która nie jest napisem\\n# dla typów wbódowanych wystarczy napisać\\nprint(12)\\nt=5\\nprint(t)', 't': 6, '_i13': 't+=1', '_i14': '# Do wypisania sformatowanego napisu tak jak w printf znanym\\n# z C należy użyć metody format z klasy string\\nprint(\\'{} ma {} koty\\'.format(\"Ala\", t))\\n\\n# Dobry opis składni format znajduje się na stronie\\n# https://www.programiz.com/python-programming/methods/string/format', '_i15': \"# W pythonie nie deklaruje się jawnie typów zmiennych jednak ma się\\n# na niego wpływ\\nx = 'abc' # string\\nprint(type(x))\\nx = 'a' # nadal string, nie ma tu typu dla pojedynczego znaku\\nprint(type(x))\\nx = 12 # integer\\nprint(type(x))\\nx = 12.0 # float (tak naprawdę odpowiednik double z C)\\nprint(type(x))\\n# Jak widać na powyższym przykładzie zmienną można redefiniować\\n# nawet jako zmienną innego typu.\", 'x': 12.0, '_i16': '# Liczby zespolone\\na = 1.5 + 0.5j\\nprint(a)\\n# Możemy pobrać pojedyńcze wartości z liczby zespolonej\\nprint(a.real)\\nprint(a.imag)\\n# Możne wykonywać operacje arytmetycnze na całej liczbie\\na = a * 2\\nprint(a)\\na = a + 2\\nprint(a)\\na = a + 2j\\nprint(a)', 'a': 1.0 + i4.0, '_i17': '# Do wartości losowych wykorzystujemy klase random\\nimport random as ran\\n\\nliczba = ran.randint(1, 10)\\nprint(liczba)', 'ran': <module 'random' from '/usr/lib/python3.11/random.py'>, 'liczba': 6, '_i18': \"# Innymi ważnymi konstrukcjami w pythonie są listy i słowniki\\nl = [23, 43, 11, 8] # Lista cztero elementowa\\npl = [] # Pusta lista\\ns = {'Ala':12, 'Jan': 46, 'Roman': 68} # Słownik\\nps = {} # Pusty słownik\\n\\nl.append(6) # Dodajemy element do listy\\ns['Jadwiga'] = 6 # Dodajemy element do słownika\\nl[2] = 0 # Zmieniamy wartość w liście\\ns['Ala'] = 18 # Zmieniamy wartość w słowniku\\nf = {2:'a', 4:'6'}\\nprint(f[2])\", 'l': [23, 43, 0, 8, 6], 'pl': [3, 3, 3], 's': {'Ala': 18, 'Jan': 46, 'Roman': 68, 'Jadwiga': 6}, 'ps': {}, 'f': {2: 'a', 4: '6'}, '_i19': '# Po listach można iterować za pomocą pętli for\\nfor a in l:\\n  print(a)\\n# Poszczególne bloki kodu oznaczamy tabulacją a nie klamrami {}', '_i20': \"# Jeżeli chcemy iterować po słowniku musimy\\n# użyć metody która zwróci nam listę par\\n# klucz:warotść\\nfor key, value in s.items():\\n    print('{} : {}'.format(key, value))\", 'key': 'Jadwiga', 'value': 6, '_i21': \"# W pythonie nie ma pętli for takiej jak w C, Bardziej przypomina pętle z basha\\n# jeżeli chcemy iterować po kolejnych liczbach\\n# musimy użyć funckji range która wygeneruje nam\\n# listę z liczbami\\nfor i in range(10):\\n    print(i)\\nprint('---')\\nfor i in range(15, 20):\\n    print(i)\\nprint('---')\\nfor i in range(0, 10, 2):\\n  print(i)\", 'i': 8, '_i22': \"# Poprawny sposób iterowania po liście przy jednoczesnym\\n# dostępie do indeksu aktualnego elementu wygląda następująco\\nfor index, value in enumerate(l):\\n    print('{} : {}'.format(index, value))\", 'index': 4, '_i23': '# Inną możliwą pętlą jest while\\na = 3\\nwhile a>len(pl):\\n    pl.append(3)\\n# len(l) zwraca rozmiar listy l\\nprint(pl)\\n# Podobnie jak w C w pythonie można przerywać pętle za pomocą\\n# instrukcji break i continue', '_i24': \"# Konstrukcja if else wygląda następująco\\na = ran.randint(1, 10)\\nif a>3:\\n    print('a jest większe od 3')\\nelif a<0:\\n    print('a jest liczbą ujemną')\\nelse:\\n    print('a jest w przedziale od 0 do 3')\", '_i25': '# Jeżeli lista zawiera typy podstawowe lub dobrze zdefiniowane klasy\\n# możemy wykorzystać różne przydatne funkcje\\nprint(min(l))\\nprint(max(l))\\nprint(sum(l))\\nprint(sum(l) / len(l))', '_i26': \"# Zwróćmy uwagę na to jakie wyniki daje dzielenie (// dzielenie bez reszty)\\na = 1\\nb = 2\\nc = 1.0\\nd = 2.0\\nprint('{} ({})'.format(a / b, type(a / b)))\\nprint('{} ({})'.format(a / d, type(a / d)))\\nprint('{} ({})'.format(c / b, type(c / b)))\\nprint('{} ({})'.format(c / d, type(c / d)))\\nprint('{} ({})'.format(a // b, type(a // b)))\\nprint('{} ({})'.format(c // d, type(c // d)))\", 'b': 4.0 + i5.0, 'c': 1.0, 'd': 2.0, '_i27': \"\\n# Tak wygląda definicja klasy w Pythonie.\\n# W odróżnieniu od Javy czy C++ nie deklaruje się oddzielnie pól klasy, tworzone\\n# są one w chwili inicjalizacji w konstruktorze.\\n# Możliwe jest dynamiczne dodawanie pól do już istniejących obiektów.\\n# Nie stosuje się tutaj też zazwyczaj getterów i setterów chyba że mają jakieś\\n# dodatkowe funkcjonalnosci, jak na przykład obsługa błędów.\\nclass MyComplex:\\n\\n    # To jest konstruktor. W pythonie nie ma możliwości przeładowania\\n    # konstruktora. Dodatkowo w karzdej metodzie klasy trzeba zadeklarować\\n    # self, odpowiednik this z C, jako jawny parametr\\n    def __init__(self, re=4., im=0.):\\n        # Dobrze jest się w konstruktorze upewnić że wszystko jest takiego typu\\n        # jak chcemy.\\n        # Możliwe jest podanie dowolnych typów jako parametry i jeżeli obiekt\\n        # ma długi cykl życia to błąd może się pojawić bardzo daleko od swojego\\n        # źródła.\\n        self.re = float(re)\\n        self.im = float(im)\\n\\n    # Przykład najzwyklejszej metody, sprawdza czy dana liczba ma zerową\\n    # część urojoną.\\n    def is_real_number(self):\\n        return self.im == 0  # Do pól trzeba odwoływać się przez self.nazwa_pola\\n\\n    # Metody specjalne mają na końcu i na początku dwa podkreślniki.\\n    # Ta funkcja zostanie wywołana kiedy będziemy chcieli przekonwertować obiekt do napisu.\\n    def __str__(self):\\n        return '{} + i{}'.format(self.re, self.im)\\n\\n    # Ta funkcja wywoływana jest też przy konwersji do napisu ale w innych kontekstach.\\n    # Dla większości podstawowych zastosowań starczy implementacja jak poniżej\\n    def __repr__(self):\\n        return self.__str__()\\n\\n    # Funkcja obsługuje dodawanie\\n    def __add__(self, other):\\n        # Jeżeli druga liczba jest też zespolona dodajemy odpowiednio części\\n        # rzeczywiste i urojone\\n        if isinstance(other, MyComplex):\\n            return MyComplex(self.re + other.re, self.im + other.im)\\n        # Jeżeli jest to liczba rzeczywista do dodajemy ją do części rzeczywistej\\n        # naszej liczby.\\n        elif isinstance(other, (int, float)):\\n            return MyComplex(self.re + other, self.im)\\n        else:\\n            raise TypeError()\", 'MyComplex': <class '__main__.MyComplex'>, '_i28': \"a = MyComplex(1, 4)\\nb = MyComplex(im=5.)\\nprint('a={}'.format(a))\\nprint('b={}'.format(b))\\nprint('a+b={}'.format(a + b))\\n\\nb.d=6\\nprint(b.d)\", '_i29': '# Dobrze napisany skrypt w pythonie tak naprawdę nie powinien mieć swojego głównego kodu\\n# w \"zerowym wcięciu\" ponieważ powoduje to problemy przy importach.\\n# Dokładniej taki kod zostanie wywołany w chwili zaimportowania danego skryptu.\\n# Dlatego należy stworzyć funkcję main() a następnie uruchamiać ją tylko wtedy kiedy skrypt\\n# został wywołany bezpośrednio z terminala a nie poprzez improt.\\ndef main():\\n    # Demonstracja naszej klasy\\n    a = MyComplex(1, 4)\\n    b = MyComplex(3, 3)\\n    print(\\'a={}\\'.format(a))\\n    print(\\'b={}\\'.format(b))\\n    print(\\'a+b={}\\'.format(a + b))\\n\\n    # Kilka ciekawych zmiennych specjalnych\\n    print(__name__) #  Nazwa modółu jeżeli import albo \"__main__\" jeżli odpalone z konsoli\\n    print(globals()) #  Słownik zawierający zmienne globalne (można go edytować)\\n    print(locals())  # Słownik zawierający zmienne lokalne (można go edytować)', 'main': <function main at 0x7f8e7c899b20>, '_i30': \"# Ta konstrukcja sprawdza czy nasz skrypt został wywołany bezpośrednio z konsoli,\\nif __name__ == '__main__':\\n    main()\"}\n",
            "{'a': 1.0 + i4.0, 'b': 3.0 + i3.0}\n"
          ]
        }
      ]
    },
    {
      "cell_type": "code",
      "source": [
        "try:\n",
        "  i=5+'ala'\n",
        "except TypeError:\n",
        "  print('nie')"
      ],
      "metadata": {
        "id": "XbqLljj7euo7",
        "colab": {
          "base_uri": "https://localhost:8080/"
        },
        "outputId": "fcd5cd1b-cd92-4cec-c72e-f7b163535c80"
      },
      "execution_count": 45,
      "outputs": [
        {
          "output_type": "stream",
          "name": "stdout",
          "text": [
            "nie\n"
          ]
        }
      ]
    }
  ]
}